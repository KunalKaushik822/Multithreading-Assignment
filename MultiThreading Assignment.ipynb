{
 "cells": [
  {
   "cell_type": "code",
   "execution_count": 4,
   "id": "e5030cc2-ad12-4cfa-a4f0-bc8574747610",
   "metadata": {},
   "outputs": [],
   "source": [
    "# Q1. What is multithreading in python? Why is it used? Name the module used to handle threads in python"
   ]
  },
  {
   "cell_type": "code",
   "execution_count": 5,
   "id": "d1817bec-0bad-4b7e-aa00-52607eb81048",
   "metadata": {},
   "outputs": [],
   "source": [
    "#Ans.1 It's a programming concept that allows a single process to run multiple threads of execution concurrently.\n",
    "# Each thread is like a mini-process that can execute its own code, but they all share the same memory space and resources within the process.\n",
    "\n",
    "\n",
    "# Use Multithreading in Python:\n",
    "\n",
    "# Improved Responsiveness:\n",
    "# Apps can handle user interactions and background tasks concurrently, providing a smoother user experience.\n",
    "# Better Resource Utilization:\n",
    "# Threads can take advantage of idle time during I/O operations, like waiting for network responses or file reads, preventing other tasks from being blocked.\n",
    "# Simplified Concurrency Handling:\n",
    "# Threading is often simpler to implement than multiprocessing (creating separate processes), as threads share memory and communication between them is easier."
   ]
  },
  {
   "cell_type": "code",
   "execution_count": 6,
   "id": "05d828e9-cc22-4c0f-ac58-3744165bbe65",
   "metadata": {},
   "outputs": [],
   "source": [
    "# Q2. Why threading module used? Write the use of the following functions\n",
    "# 1. activeCount()\n",
    "# 2. currentThread()\n",
    "# 3. enumerate()\n",
    "\n",
    "\n",
    "# #Ans2. The threading module is essential for creating and managing threads in Python.\n",
    "# Threads are lightweight units of execution within a process that can run concurrently, enabling applications to perform multiple tasks seemingly simultaneously.\n",
    "# This approach enhances responsiveness for interactive applications (e.g., keeping the UI usable while performing background tasks) and potentially improves CPU utilization, especially for I/O-bound operations.\n",
    "\n",
    "# 1. activeCount() Function:\n",
    "\n",
    "# Returns the total number of active thread objects within the current Python process.\n",
    "# This includes:\n",
    "# The main thread (the initial thread that starts the program execution).\n",
    "# Any threads you've explicitly created using the threading module.\n",
    "# It's useful for monitoring thread creation and termination to ensure you're managing threads as expected.\n",
    "\n",
    "# 2. currentThread()\n",
    "\n",
    "# Returns the Thread object representing the thread that's currently executing the code where this function is called.\n",
    "# This is helpful for identifying which thread is performing a specific action or accessing shared resources.\n",
    "# Note that if your thread wasn't created using the threading module, a dummy thread object with limited functionality might be returned.\n",
    "\n",
    "\n",
    "# enumerate()\n",
    "\n",
    "# Returns a list containing all the currently active Thread objects in the Python process.\n",
    "# This is useful for iterating through all threads, potentially performing operations on them, or simply getting an overview of the active threads."
   ]
  },
  {
   "cell_type": "code",
   "execution_count": 7,
   "id": "76f14c93-238e-41e9-8782-c1769a391ceb",
   "metadata": {},
   "outputs": [],
   "source": [
    "# 3. Explain the following functions\n",
    "# 1. run()\n",
    "# 2. start()\n",
    "# 3. join()\n",
    "# 4. isAlive()\n",
    "\n",
    "#  run() Function:\n",
    "\n",
    "# Purpose: This is the core function that defines the work a thread will perform.\n",
    "# Implementation: You define the code for your thread's tasks within the run() method. This code dictates what the thread will execute when it's started.\n",
    "# Calling: You don't directly call run() on a thread object. The start() method takes care of calling run() internally.\n",
    "\n",
    "\n",
    "#  start() Function:\n",
    "\n",
    "# Purpose: This function initiates the actual execution of the thread in a separate execution context.\n",
    "# What Happens: When you call start(), Python:\n",
    "# Allocates resources (like a stack) for the thread.\n",
    "# Starts the thread's execution by calling its run() method in the separate context.\n",
    "# The main thread continues execution concurrently with the started thread.\n",
    "# Calling: Once you've created a thread object (using threading.Thread(target=...)), call start() on it to begin its execution.\n",
    "\n",
    "\n",
    "# join() Function:\n",
    "\n",
    "# Purpose: This function is used to synchronize threads. It causes the calling thread (the main thread by default) to wait until the specified thread (the joined thread) finishes its execution.\n",
    "# Behavior: When you call join() on a thread:\n",
    "# The calling thread is suspended or blocked until the joined thread finishes its run() method.\n",
    "# Once the joined thread is done, the calling thread resumes execution.\n",
    "# Use Cases: You might use join() to ensure certain tasks are completed (e.g., database updates) before proceeding with other actions in the main thread.\n",
    "\n",
    "\n",
    "# isAlive() Function:\n",
    "\n",
    "# Purpose: This function returns a boolean value indicating whether a thread is still active or running.\n",
    "# Return Values:\n",
    "# True: The thread has been started with start() and is still executing its run() method.\n",
    "# False: The thread has either not been started or has already finished executing its run() method.\n",
    "# Use Cases: You can use isAlive() to check if a thread is still running before performing actions that might depend on its completion."
   ]
  },
  {
   "cell_type": "code",
   "execution_count": 8,
   "id": "06605aa5-5379-4d6c-8cd8-c8375a4b9add",
   "metadata": {},
   "outputs": [
    {
     "name": "stdout",
     "output_type": "stream",
     "text": [
      "Square of 1 is: 1\n",
      "Square of 2 is: 4\n",
      "Square of 3 is: 9\n",
      "Square of 4 is: 16\n",
      "Square of 5 is: 25\n",
      "Cube of 1 is: 1\n",
      "Cube of 2 is: 8\n",
      "Cube of 3 is: 27\n",
      "Cube of 4 is: 64\n",
      "Cube of 5 is: 125\n",
      "All threads finished!\n"
     ]
    }
   ],
   "source": [
    "# Q4. Write a python program to create two threads. Thread one must print the list of squares and thread\n",
    "# two must print the list of cubes\n",
    "\n",
    "\n",
    "import threading\n",
    "\n",
    "def print_squares(numbers):\n",
    "    \"\"\"Prints the squares of numbers in the given list.\"\"\"\n",
    "    for num in numbers:\n",
    "        print(f\"Square of {num} is: {num * num}\")\n",
    "\n",
    "def print_cubes(numbers):\n",
    "    \"\"\"Prints the cubes of numbers in the given list.\"\"\"\n",
    "    for num in numbers:\n",
    "        print(f\"Cube of {num} is: {num * num * num}\")\n",
    "\n",
    "if __name__ == \"__main__\":\n",
    "    numbers = [1, 2, 3, 4, 5]\n",
    "\n",
    "    # Create two threads\n",
    "    thread1 = threading.Thread(target=print_squares, args=(numbers,))\n",
    "    thread2 = threading.Thread(target=print_cubes, args=(numbers,))\n",
    "\n",
    "    # Start the threads\n",
    "    thread1.start()\n",
    "    thread2.start()\n",
    "\n",
    "    # Optionally wait for both threads to finish before continuing\n",
    "    thread1.join()\n",
    "    thread2.join()\n",
    "\n",
    "    print(\"All threads finished!\")\n"
   ]
  },
  {
   "cell_type": "code",
   "execution_count": 9,
   "id": "2a575cff-ba63-40b1-920c-b666ef80e02b",
   "metadata": {},
   "outputs": [],
   "source": [
    "# Q5. State advantages and disadvantages of multithreading.\n",
    "\n",
    "\n",
    "# Advantages:\n",
    "\n",
    "# Improved Responsiveness: Applications can handle user interactions and background tasks simultaneously, leading to a smoother user experience.\n",
    "# Better Resource Utilization: Threads can keep the CPU busy while waiting for I/O operations (like network requests or file reads) to complete, preventing other tasks from being blocked.\n",
    "# Simplified Concurrency Modeling: For problems that are naturally divided into independent tasks, multithreading can make the code easier to design, understand, and maintain.\n",
    "\n",
    "# Disadvantages:\n",
    "\n",
    "# Increased Complexity: Multithreaded programs can be more challenging to write and debug compared to single-threaded ones due to synchronization and potential race conditions.\n",
    "# Overhead: Creating and managing threads involves some overhead, which can negate performance benefits for tasks that aren't well-suited for parallelization.\n",
    "# Limited Benefits with GIL (Python): The Global Interpreter Lock (GIL) in the standard Python implementation restricts true parallelism for CPU-bound tasks within a single process. However, multithreading can still be beneficial for I/O-bound tasks.\n"
   ]
  },
  {
   "cell_type": "code",
   "execution_count": null,
   "id": "11b9bdf2-bc56-4035-a317-f40fa43d6c83",
   "metadata": {},
   "outputs": [],
   "source": [
    "# Q6. Explain deadlocks and race conditions.\n",
    "\n",
    "\n",
    "Deadlock: Imagine two cars at a dead-end intersection, each needing the other's position to move. In multithreading, deadlocks occur when two or more threads are permanently waiting for resources held by each other, causing a halt in program execution.\n",
    "\n",
    "Race Condition: Picture two runners racing towards a single finish line. The first one to reach it wins. In multithreading, a race condition arises when multiple threads access and modify the same shared data concurrently, potentially leading to unpredictable outcomes depending on which thread gets there first."
   ]
  }
 ],
 "metadata": {
  "kernelspec": {
   "display_name": "Python 3 (ipykernel)",
   "language": "python",
   "name": "python3"
  },
  "language_info": {
   "codemirror_mode": {
    "name": "ipython",
    "version": 3
   },
   "file_extension": ".py",
   "mimetype": "text/x-python",
   "name": "python",
   "nbconvert_exporter": "python",
   "pygments_lexer": "ipython3",
   "version": "3.10.8"
  }
 },
 "nbformat": 4,
 "nbformat_minor": 5
}
